{
 "cells": [
  {
   "cell_type": "code",
   "execution_count": null,
   "metadata": {},
   "outputs": [],
   "source": [
    "import pandas as pd\n",
    "from sklearn.preprocessing import StandardScaler"
   ]
  },
  {
   "cell_type": "markdown",
   "metadata": {},
   "source": [
    "### Eliminacion de columnas innecesarias"
   ]
  },
  {
   "cell_type": "markdown",
   "metadata": {
    "vscode": {
     "languageId": "plaintext"
    }
   },
   "source": [
    "Devido a que el problema que queremos solucionar es saber sin algun contacto previo, dado solo el perfil de una persona, si esta aceptara abrir un CDT, vamos a eliminar todas las columnas las cuales dependan de algun contacto previo, ya que estas no nos serviran para nuestro modelo.\n",
    "\n",
    "Explicacion extra de algunas columnas que vamos a quitar:\n",
    "- `Contact`: el modo de contacto tal cual no nos importa, ya que para saber el modo de contacto utilizado, tenemos que haberlo contactado previamente (Y haber realizado la llamada preguntando si quiere abrir un CDT)\n",
    "- `Campaign`: esta es la cantidad de veces que se ha contactado a la persona dentro de esta campaña, lo cual tampoco nos interesa.\n",
    "- `Pdays`: es el numero de dias que han pasado desde que se contacto a la persona por ultima vez, lo cual no nos interesa.\n",
    "- `Previous`: es el numero de veces que se ha contactado a la persona previamente, lo cual no nos interesa.\n",
    "- `Poutcome`: es el resultado de la campaña de marketing anterior, lo cual no nos interesa."
   ]
  },
  {
   "cell_type": "code",
   "execution_count": null,
   "metadata": {},
   "outputs": [],
   "source": [
    "df = pd.read_csv('data.csv', sep=';')\n",
    "df = df.drop(['contact', 'day', 'month', 'duration', 'campaign', 'pdays', 'previous', 'poutcome'], axis=1)\n",
    "df"
   ]
  },
  {
   "cell_type": "markdown",
   "metadata": {},
   "source": [
    "Como vimos en la exploracion, no tenemos nulos en las columnas, es por esto que no hay ninguna necesidad de realizar un tratamiento de nulos.\n",
    "<br><br>\n",
    "Por la naturaleza de los datos, asumimos que no hay datos duplicados, ya que cabe la muy real posibilidad (por el hecho de ser tan pocas categorias y estas ser muy generales) de que haya personas con los mismos datos.\n",
    "<br><br>\n",
    "Ahora vamos a normalizar los datos.\n",
    "<br>\n",
    "Apesar de que los metodos que vamos a usar son resistentes a los datos atipicos, de igual manera normalizaremos ya que uno de los metodos escogidos (regresion logistica) utiliza descenso de gradiente, proceso el cual es optimizado si los datos estan normalizados."
   ]
  },
  {
   "cell_type": "markdown",
   "metadata": {},
   "source": [
    "Normalizaremos solamente las columnas numericas, ya que las categoricas no necesitan ser normalizadas."
   ]
  },
  {
   "cell_type": "code",
   "execution_count": null,
   "metadata": {},
   "outputs": [],
   "source": [
    "scaler = StandardScaler()\n",
    "df[['age', 'balance']] = scaler.fit_transform(df[['age', 'balance']])"
   ]
  },
  {
   "cell_type": "markdown",
   "metadata": {},
   "source": [
    "Ahora vamos a convertir las columnas categoricas"
   ]
  },
  {
   "cell_type": "code",
   "execution_count": null,
   "metadata": {},
   "outputs": [],
   "source": [
    "df = pd.get_dummies(df, columns=['job', 'marital', 'education'])\n",
    "\n",
    "columns = ['default', 'housing', 'loan', 'y']\n",
    "for col in columns:\n",
    "    df[col] = df[col].map({'yes': True, 'no': False})\n"
   ]
  },
  {
   "cell_type": "code",
   "execution_count": null,
   "metadata": {},
   "outputs": [],
   "source": [
    "df.head()"
   ]
  },
  {
   "cell_type": "markdown",
   "metadata": {},
   "source": [
    "Ahora vamos a exportar nuestro dataframe como CSV."
   ]
  },
  {
   "cell_type": "code",
   "execution_count": null,
   "metadata": {},
   "outputs": [],
   "source": [
    "df.to_csv('output.csv', index=False)"
   ]
  }
 ],
 "metadata": {
  "kernelspec": {
   "display_name": "venv",
   "language": "python",
   "name": "python3"
  },
  "language_info": {
   "codemirror_mode": {
    "name": "ipython",
    "version": 3
   },
   "file_extension": ".py",
   "mimetype": "text/x-python",
   "name": "python",
   "nbconvert_exporter": "python",
   "pygments_lexer": "ipython3",
   "version": "3.11.3"
  }
 },
 "nbformat": 4,
 "nbformat_minor": 2
}
