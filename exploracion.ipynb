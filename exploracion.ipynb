{
 "cells": [
  {
   "cell_type": "code",
   "execution_count": null,
   "metadata": {},
   "outputs": [],
   "source": [
    "import seaborn as sn\n",
    "import pandas as pd\n",
    "import matplotlib.pyplot as plt\n",
    "from sklearn.metrics import confusion_matrix"
   ]
  },
  {
   "cell_type": "markdown",
   "metadata": {},
   "source": [
    "Cargar los datos"
   ]
  },
  {
   "cell_type": "code",
   "execution_count": null,
   "metadata": {},
   "outputs": [],
   "source": [
    "df = pd.read_csv('data.csv', sep=';')\n",
    "df"
   ]
  },
  {
   "cell_type": "markdown",
   "metadata": {},
   "source": [
    "Encontrar los valores basicos de cada columna numerica, como la media, la mediana, la desviacion estandar, el minimo y el maximo"
   ]
  },
  {
   "cell_type": "code",
   "execution_count": null,
   "metadata": {},
   "outputs": [],
   "source": [
    "df.describe()"
   ]
  },
  {
   "cell_type": "code",
   "execution_count": null,
   "metadata": {},
   "outputs": [],
   "source": [
    "print(df.info())"
   ]
  },
  {
   "cell_type": "markdown",
   "metadata": {},
   "source": [
    "Se puede ver que no existen valores nulos en los datos, entonces no se tiene necesidad de hacer una limpieza de nulos"
   ]
  },
  {
   "cell_type": "code",
   "execution_count": null,
   "metadata": {},
   "outputs": [],
   "source": [
    "df.head()"
   ]
  },
  {
   "cell_type": "markdown",
   "metadata": {},
   "source": [
    "Se puede notar que hay varias variables categoricas en el dataset"
   ]
  },
  {
   "cell_type": "markdown",
   "metadata": {},
   "source": [
    "Vamos a conseguir nuestras variables categoricas y numericas, para graficarlas y ver como se comportan"
   ]
  },
  {
   "cell_type": "code",
   "execution_count": null,
   "metadata": {},
   "outputs": [],
   "source": [
    "numeric = []\n",
    "for col in df.columns:\n",
    "    if df[col].dtype != 'O':\n",
    "        numeric.append(col)\n",
    "\n",
    "print(f\"Varaibles numericas: {numeric}\")\n",
    "\n",
    "categorical = []\n",
    "for col in df.columns:\n",
    "    if df[col].dtype == 'O':\n",
    "        categorical.append(col)\n",
    "\n",
    "print(f\"Variables categoricas: {categorical}\")"
   ]
  },
  {
   "cell_type": "code",
   "execution_count": null,
   "metadata": {},
   "outputs": [],
   "source": [
    "for num in numeric:\n",
    "    plt.boxplot(df[num])\n",
    "    plt.title(num)\n",
    "    plt.show()"
   ]
  },
  {
   "cell_type": "markdown",
   "metadata": {},
   "source": [
    "Vamos a ver cuantos outliers tenemos en cada una de nuestras columnas numericas"
   ]
  },
  {
   "cell_type": "code",
   "execution_count": null,
   "metadata": {},
   "outputs": [],
   "source": [
    "for num in numeric:\n",
    "    iqr = df[num].quantile(0.75) - df[num].quantile(0.25)\n",
    "    print(f\"Numero outliers de {num} es: {(df[num] > df[num].quantile(0.75) + 1.5 * iqr).sum() + (df[num] < df[num].quantile(0.25) - 1.5 * iqr).sum()}\")"
   ]
  },
  {
   "cell_type": "markdown",
   "metadata": {},
   "source": [
    "Podemos notar que tenemos muchos outliers en nuestras columnas, aunque con respecto a el tamaño de nuestro dataset, no es un numero tan grande.\n",
    "El problema es que en columnas como la edad, si que nos interesa guardar los outliers, puesto que existe la posibilidad de que la gente de mayor edad tienda a nunca abrir un CDT, o la gente con mucho dinero en la cuenta si que tienda a abrir un CDT.\n",
    "<br>\n",
    "Aun asi notemos que en nuestra columna de `previous` si que hay un valor ya muy extremo, ese si que va a ser eliminado 100%"
   ]
  },
  {
   "cell_type": "markdown",
   "metadata": {},
   "source": [
    "De igual manera, vamos a calcular el numero de valores extremos (3IQR)"
   ]
  },
  {
   "cell_type": "code",
   "execution_count": null,
   "metadata": {},
   "outputs": [],
   "source": [
    "for num in numeric:\n",
    "    iqr = df[num].quantile(0.75) - df[num].quantile(0.25)\n",
    "    print(f\"Numero valores extremos de {num} es: {(df[num] > df[num].quantile(0.75) + 3 * iqr).sum() + (df[num] < df[num].quantile(0.25) - 3 * iqr).sum()}\")"
   ]
  },
  {
   "cell_type": "markdown",
   "metadata": {},
   "source": [
    "Algo que podemos notar sabiendo el contexto de nuestro dataset, es que la columna `previous`  y  `pdays` son columnas en las que tienen muchos extremos debido a que la gran mayoria de las personas contactadas, son contactadas por primera vez, por ende el valor de `pdays` es -1 y `previous` es 0.\n",
    "<br>\n",
    "Esto tambien se puede comprobar revisando los cuartiles de estas variables."
   ]
  },
  {
   "cell_type": "markdown",
   "metadata": {},
   "source": [
    "Adicionalmente, vamos a mirar que distribucion tienen nuestras variables numericas"
   ]
  },
  {
   "cell_type": "code",
   "execution_count": null,
   "metadata": {},
   "outputs": [],
   "source": [
    "for num in numeric:\n",
    "    plt.hist(df[num], bins = 40)\n",
    "    plt.axvline(x=df[num].mean(), color='r', linestyle='dashed', linewidth=2)  # La media\n",
    "    plt.title(num)\n",
    "    plt.show()"
   ]
  },
  {
   "cell_type": "markdown",
   "metadata": {},
   "source": [
    "A pesar de que la columna previous no se puede ver muy bien en el grafico, no importa ya que por la naturaleza del problema escogido, esta columna se va a desechar de igual manera"
   ]
  },
  {
   "cell_type": "markdown",
   "metadata": {},
   "source": [
    "### variables categoricas"
   ]
  },
  {
   "cell_type": "code",
   "execution_count": null,
   "metadata": {},
   "outputs": [],
   "source": [
    "for cat in categorical:\n",
    "    df[cat].value_counts().plot(kind='bar')\n",
    "    plt.title(cat)\n",
    "    plt.show()"
   ]
  },
  {
   "cell_type": "markdown",
   "metadata": {},
   "source": [
    "Podemos notar cosas como que:\n",
    "- a simple vista se puede ver que los trabajadores manuales, los gerente y los tecnicos representan poco mas de la mitad de todos los contactados.\n",
    "- Mas de la mitad de los contactados son casados.\n",
    "- Mas o menos la mitad solo llegaron al bachillerato\n",
    "- Casi ningun contactado ha incumplido en la deuda\n",
    "- La mayoria de los contactados no tienen ningun prestamo\n",
    "- Mucho mas de la mitad de los contactados fueron por medio del celular\n",
    "- En mayo se hacen mas o menos el doble de llamadas (o contactos pues) que en el siguiente mes\n",
    "- casi no se sabe ningun resultado de las campañas anteriores de marketing\n",
    "- Solo el 12% (medido a ojo) de los contactos resultan en que los clientes abran un CDT en el banco"
   ]
  },
  {
   "cell_type": "markdown",
   "metadata": {},
   "source": [
    "### Relaciones entre variables con nuestro target"
   ]
  },
  {
   "cell_type": "code",
   "execution_count": null,
   "metadata": {},
   "outputs": [],
   "source": [
    "for num in numeric:\n",
    "    sn.boxplot(x='y', y=num, data=df)\n",
    "    plt.show()"
   ]
  },
  {
   "cell_type": "code",
   "execution_count": null,
   "metadata": {},
   "outputs": [],
   "source": [
    "for num in numeric:\n",
    "    sn.histplot(df, x=num, hue='y', multiple='stack')\n",
    "    plt.show()"
   ]
  },
  {
   "cell_type": "markdown",
   "metadata": {},
   "source": [
    "Algo notable es que las personas jovenes y las personas mayores son en porcentaje de contactadas, las que mas tienden a abrir un CDT."
   ]
  },
  {
   "cell_type": "markdown",
   "metadata": {},
   "source": [
    "Ahora las variables categoricas"
   ]
  },
  {
   "cell_type": "code",
   "execution_count": null,
   "metadata": {},
   "outputs": [],
   "source": [
    "for cat in categorical:\n",
    "    if cat == 'y': continue\n",
    "\n",
    "    agg_df = df.groupby(cat).agg(\n",
    "        total=('y', 'count'),\n",
    "        p_yes=('y', lambda x: (x=='yes').sum()),\n",
    "        p_no=('y', lambda x: (x=='no').sum())\n",
    "    )\n",
    "\n",
    "    agg_df['p_yes'] = agg_df['p_yes'] * 100 / agg_df['total']\n",
    "    agg_df['p_no'] = agg_df['p_no'] * 100 / agg_df['total']\n",
    "\n",
    "    plot = agg_df[['p_yes', 'p_no']].plot(kind='bar', stacked=True)\n",
    "    plt.xticks(rotation='vertical')\n",
    "\n",
    "    for i, val in enumerate(agg_df['p_yes'].values):\n",
    "        plt.text(i, val, f\"{round(agg_df['p_yes'].values[i], 1)}%\", ha='center', va='bottom')\n",
    "\n",
    "    plot.legend(['Yes', 'No'])\n",
    "    plt.show()"
   ]
  },
  {
   "cell_type": "markdown",
   "metadata": {},
   "source": [
    "Podemos notar cosas interesantes, como :\n",
    "- los clientes que han accedido a un producto del banco anteriormente, son muchisimo mas propensos a abrir un CDT. \n",
    "- las personas que no tienen prestamos de bienes raices son mas del doble de probables de abrir un cdt que las personas que cuentan con estos prestamos.\n",
    "- el modo de contacto no aparenta ser un factor a tener en cuenta, esto debido a que las probabilidades de abrir un CDT son muy similares en ambos modos de contacto"
   ]
  }
 ],
 "metadata": {
  "kernelspec": {
   "display_name": "venv",
   "language": "python",
   "name": "python3"
  },
  "language_info": {
   "codemirror_mode": {
    "name": "ipython",
    "version": 3
   },
   "file_extension": ".py",
   "mimetype": "text/x-python",
   "name": "python",
   "nbconvert_exporter": "python",
   "pygments_lexer": "ipython3",
   "version": "3.11.3"
  }
 },
 "nbformat": 4,
 "nbformat_minor": 2
}
